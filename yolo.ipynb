{
 "cells": [
  {
   "cell_type": "code",
   "execution_count": 6,
   "id": "e4281320-f5a7-4e79-983b-b5c8c5e089d5",
   "metadata": {},
   "outputs": [],
   "source": [
    "import xml.etree.ElementTree as ET\n",
    "import os\n",
    "\n"
   ]
  },
  {
   "cell_type": "code",
   "execution_count": 16,
   "id": "b8e3820c-bb36-4477-959d-54a064f5707b",
   "metadata": {},
   "outputs": [
    {
     "name": "stdout",
     "output_type": "stream",
     "text": [
      "animal_dataset/Cats_Test0.txt\n",
      "images\n",
      "    Cats_Test0.png\n",
      "    \n",
      "        233\n",
      "        350\n",
      "        3\n",
      "    \n",
      "    0\n",
      "    \n",
      "        cat\n",
      "        Unspecified\n",
      "        0\n",
      "        0\n",
      "        0\n",
      "        \n",
      "            83\n",
      "            29\n",
      "            197\n",
      "            142\n",
      "images\n",
      "Cats_Test0.png\n",
      "233\n",
      "        350\n",
      "        3\n",
      "233\n",
      "350\n",
      "3\n",
      "0\n",
      "cat\n",
      "        Unspecified\n",
      "        0\n",
      "        0\n",
      "        0\n",
      "        \n",
      "            83\n",
      "            29\n",
      "            197\n",
      "            142\n",
      "cat\n",
      "Unspecified\n",
      "0\n",
      "0\n",
      "0\n",
      "83\n",
      "            29\n",
      "            197\n",
      "            142\n",
      "83\n",
      "29\n",
      "197\n",
      "142\n"
     ]
    }
   ],
   "source": [
    "file_xml='animal_dataset/Cats_Test0.xml'\n",
    "tree=ET.parse(file_xml)\n",
    "root=tree.getroot()\n",
    "def get_element_text(element):\n",
    "    return ''.join(element.itertext())\n",
    "name,ext=os.path.splitext(file_xml)\n",
    "file_txt=os.path.splitext(file_xml)[0] +'.txt'\n",
    "print(file_txt)\n",
    "for elem in root.iter():\n",
    "    x=get_element_text(elem).strip()\n",
    "    print(x)\n",
    "# Extract text from each element in the XML tree and write it to a file\n",
    "with open(file_txt, 'w') as f:\n",
    "    for elem in root.iter():\n",
    "        \n",
    "        f.write(f\"{elem.tag}: {get_element_text(elem)}\\n\")\n"
   ]
  },
  {
   "cell_type": "code",
   "execution_count": null,
   "id": "e7ff9e54-d58a-4abc-a7d6-8fadfac6eee2",
   "metadata": {},
   "outputs": [],
   "source": [
    "class XMLhandling:\n",
    "    def xml_to_text(path):\n",
    "        file_xml=path\n",
    "        tree=ET.parse(file_xml)\n",
    "        root=tree.getroot()\n",
    "        def get_element_text(element):\n",
    "            return ''.join(element.itertext())\n",
    "        name,ext=os.path.splitext(file_xml)\n",
    "        file_txt=os.path.splitext(file_xml)[0] +'.txt'\n",
    "        print(file_txt)\n",
    "        # Extract text from each element in the XML tree and write it to a file\n",
    "        with open(file_txt, 'w') as f:\n",
    "            for elem in root.iter():\n",
    "                elem=elem.strip()\n",
    "                f.write(f\"{elem.tag}: {get_element_text(elem)}\\n\")\n",
    "\n",
    "        "
   ]
  }
 ],
 "metadata": {
  "kernelspec": {
   "display_name": "Python 3 (ipykernel)",
   "language": "python",
   "name": "python3"
  },
  "language_info": {
   "codemirror_mode": {
    "name": "ipython",
    "version": 3
   },
   "file_extension": ".py",
   "mimetype": "text/x-python",
   "name": "python",
   "nbconvert_exporter": "python",
   "pygments_lexer": "ipython3",
   "version": "3.7.11"
  }
 },
 "nbformat": 4,
 "nbformat_minor": 5
}
